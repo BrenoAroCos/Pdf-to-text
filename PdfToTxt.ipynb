{
 "cells": [
  {
   "cell_type": "code",
   "execution_count": 1,
   "metadata": {},
   "outputs": [
    {
     "name": "stdout",
     "output_type": "stream",
     "text": [
      "Note: you may need to restart the kernel to use updated packages.\n"
     ]
    },
    {
     "name": "stderr",
     "output_type": "stream",
     "text": [
      "& was unexpected at this time.\n"
     ]
    }
   ],
   "source": [
    "pip install PyPDF2 && pip install pdfminer.six && pip install pdfplumber &&& pip install PyMuPDF & pip install pdfreader && pip install pdf2image"
   ]
  },
  {
   "cell_type": "code",
   "execution_count": 2,
   "metadata": {},
   "outputs": [
    {
     "name": "stdout",
     "output_type": "stream",
     "text": [
      "Requirement already satisfied: pdfreader in c:\\users\\maquiona\\appdata\\local\\programs\\python\\python39\\lib\\site-packages (0.1.12)\n",
      "Requirement already satisfied: bitarray>=1.1.0 in c:\\users\\maquiona\\appdata\\local\\programs\\python\\python39\\lib\\site-packages (from pdfreader) (2.8.5)\n",
      "Requirement already satisfied: pillow>=7.1.0 in c:\\users\\maquiona\\appdata\\local\\programs\\python\\python39\\lib\\site-packages (from pdfreader) (10.1.0)\n",
      "Requirement already satisfied: pycryptodome>=3.9.9 in c:\\users\\maquiona\\appdata\\local\\programs\\python\\python39\\lib\\site-packages (from pdfreader) (3.19.0)\n",
      "Requirement already satisfied: python-dateutil>=2.8.1 in c:\\users\\maquiona\\appdata\\roaming\\python\\python39\\site-packages (from pdfreader) (2.8.2)\n",
      "Requirement already satisfied: six>=1.5 in c:\\users\\maquiona\\appdata\\roaming\\python\\python39\\site-packages (from python-dateutil>=2.8.1->pdfreader) (1.16.0)\n",
      "Note: you may need to restart the kernel to use updated packages.\n"
     ]
    },
    {
     "name": "stderr",
     "output_type": "stream",
     "text": [
      "WARNING: You are using pip version 20.2.4; however, version 23.3.1 is available.\n",
      "You should consider upgrading via the 'c:\\Users\\maquiona\\AppData\\Local\\Programs\\Python\\Python39\\python.exe -m pip install --upgrade pip' command.\n"
     ]
    }
   ],
   "source": [
    "pip install pdfreader"
   ]
  },
  {
   "cell_type": "code",
   "execution_count": 3,
   "metadata": {},
   "outputs": [
    {
     "name": "stdout",
     "output_type": "stream",
     "text": [
      "Requirement already satisfied: PyMuPDF in c:\\users\\maquiona\\appdata\\local\\programs\\python\\python39\\lib\\site-packages (1.23.7)\n",
      "Requirement already satisfied: Pillow in c:\\users\\maquiona\\appdata\\local\\programs\\python\\python39\\lib\\site-packages (10.1.0)\n",
      "Requirement already satisfied: pytesseract in c:\\users\\maquiona\\appdata\\local\\programs\\python\\python39\\lib\\site-packages (0.3.10)\n",
      "Requirement already satisfied: PyMuPDFb==1.23.7 in c:\\users\\maquiona\\appdata\\local\\programs\\python\\python39\\lib\\site-packages (from PyMuPDF) (1.23.7)\n",
      "Requirement already satisfied: packaging>=21.3 in c:\\users\\maquiona\\appdata\\roaming\\python\\python39\\site-packages (from pytesseract) (23.2)\n",
      "Note: you may need to restart the kernel to use updated packages.\n"
     ]
    },
    {
     "name": "stderr",
     "output_type": "stream",
     "text": [
      "WARNING: You are using pip version 20.2.4; however, version 23.3.1 is available.\n",
      "You should consider upgrading via the 'c:\\Users\\maquiona\\AppData\\Local\\Programs\\Python\\Python39\\python.exe -m pip install --upgrade pip' command.\n"
     ]
    }
   ],
   "source": [
    "pip install PyMuPDF Pillow pytesseract"
   ]
  },
  {
   "cell_type": "code",
   "execution_count": 4,
   "metadata": {},
   "outputs": [],
   "source": [
    "# To read the PDF\n",
    "import PyPDF2\n",
    "# To analyze the PDF layout and extract text\n",
    "from pdfminer.high_level import extract_pages, extract_text\n",
    "from pdfminer.layout import LTTextContainer, LTChar, LTRect, LTFigure\n",
    "# To extract text from tables in PDF\n",
    "import pdfplumber\n",
    "# To extract the images from the PDFs\n",
    "# To remove the additional created files\n",
    "import os\n",
    "from pdfreader import PDFDocument\n"
   ]
  },
  {
   "cell_type": "code",
   "execution_count": 8,
   "metadata": {},
   "outputs": [],
   "source": [
    "import fitz"
   ]
  },
  {
   "cell_type": "code",
   "execution_count": 9,
   "metadata": {},
   "outputs": [
    {
     "ename": "TesseractNotFoundError",
     "evalue": "tesseract is not installed or it's not in your PATH. See README file for more information.",
     "output_type": "error",
     "traceback": [
      "\u001b[1;31m---------------------------------------------------------------------------\u001b[0m",
      "\u001b[1;31mFileNotFoundError\u001b[0m                         Traceback (most recent call last)",
      "File \u001b[1;32mc:\\Users\\maquiona\\AppData\\Local\\Programs\\Python\\Python39\\lib\\site-packages\\pytesseract\\pytesseract.py:255\u001b[0m, in \u001b[0;36mrun_tesseract\u001b[1;34m(input_filename, output_filename_base, extension, lang, config, nice, timeout)\u001b[0m\n\u001b[0;32m    254\u001b[0m \u001b[39mtry\u001b[39;00m:\n\u001b[1;32m--> 255\u001b[0m     proc \u001b[39m=\u001b[39m subprocess\u001b[39m.\u001b[39mPopen(cmd_args, \u001b[39m*\u001b[39m\u001b[39m*\u001b[39msubprocess_args())\n\u001b[0;32m    256\u001b[0m \u001b[39mexcept\u001b[39;00m \u001b[39mOSError\u001b[39;00m \u001b[39mas\u001b[39;00m e:\n",
      "File \u001b[1;32mc:\\Users\\maquiona\\AppData\\Local\\Programs\\Python\\Python39\\lib\\subprocess.py:947\u001b[0m, in \u001b[0;36mPopen.__init__\u001b[1;34m(self, args, bufsize, executable, stdin, stdout, stderr, preexec_fn, close_fds, shell, cwd, env, universal_newlines, startupinfo, creationflags, restore_signals, start_new_session, pass_fds, user, group, extra_groups, encoding, errors, text, umask)\u001b[0m\n\u001b[0;32m    944\u001b[0m             \u001b[39mself\u001b[39m\u001b[39m.\u001b[39mstderr \u001b[39m=\u001b[39m io\u001b[39m.\u001b[39mTextIOWrapper(\u001b[39mself\u001b[39m\u001b[39m.\u001b[39mstderr,\n\u001b[0;32m    945\u001b[0m                     encoding\u001b[39m=\u001b[39mencoding, errors\u001b[39m=\u001b[39merrors)\n\u001b[1;32m--> 947\u001b[0m     \u001b[39mself\u001b[39;49m\u001b[39m.\u001b[39;49m_execute_child(args, executable, preexec_fn, close_fds,\n\u001b[0;32m    948\u001b[0m                         pass_fds, cwd, env,\n\u001b[0;32m    949\u001b[0m                         startupinfo, creationflags, shell,\n\u001b[0;32m    950\u001b[0m                         p2cread, p2cwrite,\n\u001b[0;32m    951\u001b[0m                         c2pread, c2pwrite,\n\u001b[0;32m    952\u001b[0m                         errread, errwrite,\n\u001b[0;32m    953\u001b[0m                         restore_signals,\n\u001b[0;32m    954\u001b[0m                         gid, gids, uid, umask,\n\u001b[0;32m    955\u001b[0m                         start_new_session)\n\u001b[0;32m    956\u001b[0m \u001b[39mexcept\u001b[39;00m:\n\u001b[0;32m    957\u001b[0m     \u001b[39m# Cleanup if the child failed starting.\u001b[39;00m\n",
      "File \u001b[1;32mc:\\Users\\maquiona\\AppData\\Local\\Programs\\Python\\Python39\\lib\\subprocess.py:1416\u001b[0m, in \u001b[0;36mPopen._execute_child\u001b[1;34m(self, args, executable, preexec_fn, close_fds, pass_fds, cwd, env, startupinfo, creationflags, shell, p2cread, p2cwrite, c2pread, c2pwrite, errread, errwrite, unused_restore_signals, unused_gid, unused_gids, unused_uid, unused_umask, unused_start_new_session)\u001b[0m\n\u001b[0;32m   1415\u001b[0m \u001b[39mtry\u001b[39;00m:\n\u001b[1;32m-> 1416\u001b[0m     hp, ht, pid, tid \u001b[39m=\u001b[39m _winapi\u001b[39m.\u001b[39;49mCreateProcess(executable, args,\n\u001b[0;32m   1417\u001b[0m                              \u001b[39m# no special security\u001b[39;49;00m\n\u001b[0;32m   1418\u001b[0m                              \u001b[39mNone\u001b[39;49;00m, \u001b[39mNone\u001b[39;49;00m,\n\u001b[0;32m   1419\u001b[0m                              \u001b[39mint\u001b[39;49m(\u001b[39mnot\u001b[39;49;00m close_fds),\n\u001b[0;32m   1420\u001b[0m                              creationflags,\n\u001b[0;32m   1421\u001b[0m                              env,\n\u001b[0;32m   1422\u001b[0m                              cwd,\n\u001b[0;32m   1423\u001b[0m                              startupinfo)\n\u001b[0;32m   1424\u001b[0m \u001b[39mfinally\u001b[39;00m:\n\u001b[0;32m   1425\u001b[0m     \u001b[39m# Child is launched. Close the parent's copy of those pipe\u001b[39;00m\n\u001b[0;32m   1426\u001b[0m     \u001b[39m# handles that only the child should have open.  You need\u001b[39;00m\n\u001b[1;32m   (...)\u001b[0m\n\u001b[0;32m   1429\u001b[0m     \u001b[39m# pipe will not close when the child process exits and the\u001b[39;00m\n\u001b[0;32m   1430\u001b[0m     \u001b[39m# ReadFile will hang.\u001b[39;00m\n",
      "\u001b[1;31mFileNotFoundError\u001b[0m: [WinError 2] The system cannot find the file specified",
      "\nDuring handling of the above exception, another exception occurred:\n",
      "\u001b[1;31mTesseractNotFoundError\u001b[0m                    Traceback (most recent call last)",
      "\u001b[1;32mc:\\Users\\maquiona\\Desktop\\Faculdade\\finalmente formar\\PdfToTxt.ipynb Cell 6\u001b[0m line \u001b[0;36m2\n\u001b[0;32m     <a href='vscode-notebook-cell:/c%3A/Users/maquiona/Desktop/Faculdade/finalmente%20formar/PdfToTxt.ipynb#X34sZmlsZQ%3D%3D?line=21'>22</a>\u001b[0m image_paths \u001b[39m=\u001b[39m convert_pdf_to_images(pdf_path)\n\u001b[0;32m     <a href='vscode-notebook-cell:/c%3A/Users/maquiona/Desktop/Faculdade/finalmente%20formar/PdfToTxt.ipynb#X34sZmlsZQ%3D%3D?line=23'>24</a>\u001b[0m \u001b[39mfor\u001b[39;00m image_path \u001b[39min\u001b[39;00m image_paths:\n\u001b[1;32m---> <a href='vscode-notebook-cell:/c%3A/Users/maquiona/Desktop/Faculdade/finalmente%20formar/PdfToTxt.ipynb#X34sZmlsZQ%3D%3D?line=24'>25</a>\u001b[0m     text_content \u001b[39m=\u001b[39m extract_text_from_image(image_path)\n\u001b[0;32m     <a href='vscode-notebook-cell:/c%3A/Users/maquiona/Desktop/Faculdade/finalmente%20formar/PdfToTxt.ipynb#X34sZmlsZQ%3D%3D?line=25'>26</a>\u001b[0m     \u001b[39mprint\u001b[39m(\u001b[39mf\u001b[39m\u001b[39m\"\u001b[39m\u001b[39mText extracted from \u001b[39m\u001b[39m{\u001b[39;00mimage_path\u001b[39m}\u001b[39;00m\u001b[39m:\u001b[39m\u001b[39m\\n\u001b[39;00m\u001b[39m{\u001b[39;00mtext_content\u001b[39m}\u001b[39;00m\u001b[39m\\n\u001b[39;00m\u001b[39m\"\u001b[39m)\n",
      "\u001b[1;32mc:\\Users\\maquiona\\Desktop\\Faculdade\\finalmente formar\\PdfToTxt.ipynb Cell 6\u001b[0m line \u001b[0;36m1\n\u001b[0;32m     <a href='vscode-notebook-cell:/c%3A/Users/maquiona/Desktop/Faculdade/finalmente%20formar/PdfToTxt.ipynb#X34sZmlsZQ%3D%3D?line=14'>15</a>\u001b[0m \u001b[39mdef\u001b[39;00m \u001b[39mextract_text_from_image\u001b[39m(image_path):\n\u001b[0;32m     <a href='vscode-notebook-cell:/c%3A/Users/maquiona/Desktop/Faculdade/finalmente%20formar/PdfToTxt.ipynb#X34sZmlsZQ%3D%3D?line=15'>16</a>\u001b[0m     image \u001b[39m=\u001b[39m Image\u001b[39m.\u001b[39mopen(image_path)\n\u001b[1;32m---> <a href='vscode-notebook-cell:/c%3A/Users/maquiona/Desktop/Faculdade/finalmente%20formar/PdfToTxt.ipynb#X34sZmlsZQ%3D%3D?line=16'>17</a>\u001b[0m     text \u001b[39m=\u001b[39m pytesseract\u001b[39m.\u001b[39;49mimage_to_string(image)\n\u001b[0;32m     <a href='vscode-notebook-cell:/c%3A/Users/maquiona/Desktop/Faculdade/finalmente%20formar/PdfToTxt.ipynb#X34sZmlsZQ%3D%3D?line=17'>18</a>\u001b[0m     \u001b[39mreturn\u001b[39;00m text\n",
      "File \u001b[1;32mc:\\Users\\maquiona\\AppData\\Local\\Programs\\Python\\Python39\\lib\\site-packages\\pytesseract\\pytesseract.py:423\u001b[0m, in \u001b[0;36mimage_to_string\u001b[1;34m(image, lang, config, nice, output_type, timeout)\u001b[0m\n\u001b[0;32m    418\u001b[0m \u001b[39m\u001b[39m\u001b[39m\"\"\"\u001b[39;00m\n\u001b[0;32m    419\u001b[0m \u001b[39mReturns the result of a Tesseract OCR run on the provided image to string\u001b[39;00m\n\u001b[0;32m    420\u001b[0m \u001b[39m\"\"\"\u001b[39;00m\n\u001b[0;32m    421\u001b[0m args \u001b[39m=\u001b[39m [image, \u001b[39m'\u001b[39m\u001b[39mtxt\u001b[39m\u001b[39m'\u001b[39m, lang, config, nice, timeout]\n\u001b[1;32m--> 423\u001b[0m \u001b[39mreturn\u001b[39;00m {\n\u001b[0;32m    424\u001b[0m     Output\u001b[39m.\u001b[39;49mBYTES: \u001b[39mlambda\u001b[39;49;00m: run_and_get_output(\u001b[39m*\u001b[39;49m(args \u001b[39m+\u001b[39;49m [\u001b[39mTrue\u001b[39;49;00m])),\n\u001b[0;32m    425\u001b[0m     Output\u001b[39m.\u001b[39;49mDICT: \u001b[39mlambda\u001b[39;49;00m: {\u001b[39m'\u001b[39;49m\u001b[39mtext\u001b[39;49m\u001b[39m'\u001b[39;49m: run_and_get_output(\u001b[39m*\u001b[39;49margs)},\n\u001b[0;32m    426\u001b[0m     Output\u001b[39m.\u001b[39;49mSTRING: \u001b[39mlambda\u001b[39;49;00m: run_and_get_output(\u001b[39m*\u001b[39;49margs),\n\u001b[0;32m    427\u001b[0m }[output_type]()\n",
      "File \u001b[1;32mc:\\Users\\maquiona\\AppData\\Local\\Programs\\Python\\Python39\\lib\\site-packages\\pytesseract\\pytesseract.py:426\u001b[0m, in \u001b[0;36mimage_to_string.<locals>.<lambda>\u001b[1;34m()\u001b[0m\n\u001b[0;32m    418\u001b[0m \u001b[39m\u001b[39m\u001b[39m\"\"\"\u001b[39;00m\n\u001b[0;32m    419\u001b[0m \u001b[39mReturns the result of a Tesseract OCR run on the provided image to string\u001b[39;00m\n\u001b[0;32m    420\u001b[0m \u001b[39m\"\"\"\u001b[39;00m\n\u001b[0;32m    421\u001b[0m args \u001b[39m=\u001b[39m [image, \u001b[39m'\u001b[39m\u001b[39mtxt\u001b[39m\u001b[39m'\u001b[39m, lang, config, nice, timeout]\n\u001b[0;32m    423\u001b[0m \u001b[39mreturn\u001b[39;00m {\n\u001b[0;32m    424\u001b[0m     Output\u001b[39m.\u001b[39mBYTES: \u001b[39mlambda\u001b[39;00m: run_and_get_output(\u001b[39m*\u001b[39m(args \u001b[39m+\u001b[39m [\u001b[39mTrue\u001b[39;00m])),\n\u001b[0;32m    425\u001b[0m     Output\u001b[39m.\u001b[39mDICT: \u001b[39mlambda\u001b[39;00m: {\u001b[39m'\u001b[39m\u001b[39mtext\u001b[39m\u001b[39m'\u001b[39m: run_and_get_output(\u001b[39m*\u001b[39margs)},\n\u001b[1;32m--> 426\u001b[0m     Output\u001b[39m.\u001b[39mSTRING: \u001b[39mlambda\u001b[39;00m: run_and_get_output(\u001b[39m*\u001b[39;49margs),\n\u001b[0;32m    427\u001b[0m }[output_type]()\n",
      "File \u001b[1;32mc:\\Users\\maquiona\\AppData\\Local\\Programs\\Python\\Python39\\lib\\site-packages\\pytesseract\\pytesseract.py:288\u001b[0m, in \u001b[0;36mrun_and_get_output\u001b[1;34m(image, extension, lang, config, nice, timeout, return_bytes)\u001b[0m\n\u001b[0;32m    277\u001b[0m \u001b[39mwith\u001b[39;00m save(image) \u001b[39mas\u001b[39;00m (temp_name, input_filename):\n\u001b[0;32m    278\u001b[0m     kwargs \u001b[39m=\u001b[39m {\n\u001b[0;32m    279\u001b[0m         \u001b[39m'\u001b[39m\u001b[39minput_filename\u001b[39m\u001b[39m'\u001b[39m: input_filename,\n\u001b[0;32m    280\u001b[0m         \u001b[39m'\u001b[39m\u001b[39moutput_filename_base\u001b[39m\u001b[39m'\u001b[39m: temp_name,\n\u001b[1;32m   (...)\u001b[0m\n\u001b[0;32m    285\u001b[0m         \u001b[39m'\u001b[39m\u001b[39mtimeout\u001b[39m\u001b[39m'\u001b[39m: timeout,\n\u001b[0;32m    286\u001b[0m     }\n\u001b[1;32m--> 288\u001b[0m     run_tesseract(\u001b[39m*\u001b[39m\u001b[39m*\u001b[39mkwargs)\n\u001b[0;32m    289\u001b[0m     filename \u001b[39m=\u001b[39m \u001b[39mf\u001b[39m\u001b[39m\"\u001b[39m\u001b[39m{\u001b[39;00mkwargs[\u001b[39m'\u001b[39m\u001b[39moutput_filename_base\u001b[39m\u001b[39m'\u001b[39m]\u001b[39m}\u001b[39;00m\u001b[39m{\u001b[39;00mextsep\u001b[39m}\u001b[39;00m\u001b[39m{\u001b[39;00mextension\u001b[39m}\u001b[39;00m\u001b[39m\"\u001b[39m\n\u001b[0;32m    290\u001b[0m     \u001b[39mwith\u001b[39;00m \u001b[39mopen\u001b[39m(filename, \u001b[39m'\u001b[39m\u001b[39mrb\u001b[39m\u001b[39m'\u001b[39m) \u001b[39mas\u001b[39;00m output_file:\n",
      "File \u001b[1;32mc:\\Users\\maquiona\\AppData\\Local\\Programs\\Python\\Python39\\lib\\site-packages\\pytesseract\\pytesseract.py:260\u001b[0m, in \u001b[0;36mrun_tesseract\u001b[1;34m(input_filename, output_filename_base, extension, lang, config, nice, timeout)\u001b[0m\n\u001b[0;32m    258\u001b[0m         \u001b[39mraise\u001b[39;00m\n\u001b[0;32m    259\u001b[0m     \u001b[39melse\u001b[39;00m:\n\u001b[1;32m--> 260\u001b[0m         \u001b[39mraise\u001b[39;00m TesseractNotFoundError()\n\u001b[0;32m    262\u001b[0m \u001b[39mwith\u001b[39;00m timeout_manager(proc, timeout) \u001b[39mas\u001b[39;00m error_string:\n\u001b[0;32m    263\u001b[0m     \u001b[39mif\u001b[39;00m proc\u001b[39m.\u001b[39mreturncode:\n",
      "\u001b[1;31mTesseractNotFoundError\u001b[0m: tesseract is not installed or it's not in your PATH. See README file for more information."
     ]
    }
   ],
   "source": [
    "from PIL import Image\n",
    "import pytesseract\n",
    "\n",
    "def convert_pdf_to_images(pdf_path):\n",
    "    doc = fitz.open(pdf_path)\n",
    "    images = []\n",
    "    for page_number in range(doc.page_count):\n",
    "        page = doc[page_number]\n",
    "        image = page.get_pixmap()\n",
    "        image_path = f\"page_{page_number + 1}.png\"\n",
    "        image.pil_save(image_path)\n",
    "        images.append(image_path)\n",
    "    return images\n",
    "\n",
    "def extract_text_from_image(image_path):\n",
    "    image = Image.open(image_path)\n",
    "    text = pytesseract.image_to_string(image)\n",
    "    return text\n",
    "\n",
    "# Replace 'your_pdf_file.pdf' with the path to your PDF file\n",
    "pdf_path = 'ENADE-COMPUTACAO-2017.pdf'\n",
    "image_paths = convert_pdf_to_images(pdf_path)\n",
    "\n",
    "for image_path in image_paths:\n",
    "    text_content = extract_text_from_image(image_path)\n",
    "    print(f\"Text extracted from {image_path}:\\n{text_content}\\n\")\n"
   ]
  },
  {
   "cell_type": "code",
   "execution_count": null,
   "metadata": {},
   "outputs": [],
   "source": [
    "doc = fitz.open(\"ENADE-COMPUTACAO-2017.pdf\") \n"
   ]
  },
  {
   "cell_type": "code",
   "execution_count": null,
   "metadata": {},
   "outputs": [],
   "source": [
    "fd = open(\"ENADE-COMPUTACAO-2017.pdf\", \"rb\")\n",
    "doc = PDFDocument(fd)\n",
    "\n"
   ]
  },
  {
   "cell_type": "code",
   "execution_count": null,
   "metadata": {},
   "outputs": [
    {
     "data": {
      "text/plain": [
       "8"
      ]
     },
     "execution_count": 43,
     "metadata": {},
     "output_type": "execute_result"
    }
   ],
   "source": [
    "page = next(doc.pages())\n",
    "fonts = page.Resources.Font\n",
    "len(fonts.keys())"
   ]
  },
  {
   "cell_type": "code",
   "execution_count": null,
   "metadata": {},
   "outputs": [
    {
     "name": "stdout",
     "output_type": "stream",
     "text": [
      "TT2 None\n",
      "TT4 None\n",
      "TT6 None\n",
      "TT8 None\n",
      "G1 None\n",
      "G2 None\n",
      "TT10 None\n",
      "TT12 None\n"
     ]
    }
   ],
   "source": [
    "for name, coiso in fonts.items():\n",
    "    print(name, coiso.toWinAnsiEncoding)"
   ]
  },
  {
   "cell_type": "code",
   "execution_count": null,
   "metadata": {},
   "outputs": [
    {
     "name": "stdout",
     "output_type": "stream",
     "text": [
      "0\n"
     ]
    },
    {
     "ename": "AttributeError",
     "evalue": "'Page' object has no attribute '_getTexttrace'",
     "output_type": "error",
     "traceback": [
      "\u001b[1;31m---------------------------------------------------------------------------\u001b[0m",
      "\u001b[1;31mAttributeError\u001b[0m                            Traceback (most recent call last)",
      "\u001b[1;32mc:\\Users\\maquiona\\Desktop\\Faculdade\\finalmente formar\\PdfToTxt.ipynb Cell 5\u001b[0m line \u001b[0;36m7\n\u001b[0;32m      <a href='vscode-notebook-cell:/c%3A/Users/maquiona/Desktop/Faculdade/finalmente%20formar/PdfToTxt.ipynb#X24sZmlsZQ%3D%3D?line=1'>2</a>\u001b[0m text \u001b[39m=\u001b[39m \u001b[39m\"\u001b[39m\u001b[39m\"\u001b[39m \n\u001b[0;32m      <a href='vscode-notebook-cell:/c%3A/Users/maquiona/Desktop/Faculdade/finalmente%20formar/PdfToTxt.ipynb#X24sZmlsZQ%3D%3D?line=2'>3</a>\u001b[0m \u001b[39mfor\u001b[39;00m page \u001b[39min\u001b[39;00m doc: \n\u001b[0;32m      <a href='vscode-notebook-cell:/c%3A/Users/maquiona/Desktop/Faculdade/finalmente%20formar/PdfToTxt.ipynb#X24sZmlsZQ%3D%3D?line=3'>4</a>\u001b[0m     \u001b[39m# page = doc[page_number]\u001b[39;00m\n\u001b[0;32m      <a href='vscode-notebook-cell:/c%3A/Users/maquiona/Desktop/Faculdade/finalmente%20formar/PdfToTxt.ipynb#X24sZmlsZQ%3D%3D?line=4'>5</a>\u001b[0m     \u001b[39m# font_config = page.get_fontconfig()\u001b[39;00m\n\u001b[0;32m      <a href='vscode-notebook-cell:/c%3A/Users/maquiona/Desktop/Faculdade/finalmente%20formar/PdfToTxt.ipynb#X24sZmlsZQ%3D%3D?line=5'>6</a>\u001b[0m     \u001b[39m# page.insert_font(font_config, \"default\")\u001b[39;00m\n\u001b[1;32m----> <a href='vscode-notebook-cell:/c%3A/Users/maquiona/Desktop/Faculdade/finalmente%20formar/PdfToTxt.ipynb#X24sZmlsZQ%3D%3D?line=6'>7</a>\u001b[0m     \u001b[39mprint\u001b[39m(page\u001b[39m.\u001b[39;49m_getTexttrace()[\u001b[39m0\u001b[39m])\n\u001b[0;32m      <a href='vscode-notebook-cell:/c%3A/Users/maquiona/Desktop/Faculdade/finalmente%20formar/PdfToTxt.ipynb#X24sZmlsZQ%3D%3D?line=7'>8</a>\u001b[0m     text\u001b[39m+\u001b[39m\u001b[39m=\u001b[39mpage\u001b[39m.\u001b[39mget_text()\n\u001b[0;32m      <a href='vscode-notebook-cell:/c%3A/Users/maquiona/Desktop/Faculdade/finalmente%20formar/PdfToTxt.ipynb#X24sZmlsZQ%3D%3D?line=8'>9</a>\u001b[0m     \u001b[39mbreak\u001b[39;00m\n",
      "\u001b[1;31mAttributeError\u001b[0m: 'Page' object has no attribute '_getTexttrace'"
     ]
    }
   ],
   "source": [
    "print(doc.subset_fonts())\n",
    "text = \"\" \n",
    "for page in doc: \n",
    "    # page = doc[page_number]\n",
    "    # font_config = page.get_fontconfig()\n",
    "    # page.insert_font(font_config, \"default\")\n",
    "    print(page._getTexttrace()[0])\n",
    "    text+=page.get_text()\n",
    "    break\n",
    "print(text) \n"
   ]
  },
  {
   "cell_type": "code",
   "execution_count": null,
   "metadata": {},
   "outputs": [],
   "source": [
    "def doTheOtherThing(file_path):\n",
    "    doc = fitz.open(file_path) \n",
    "    text = \"\" \n",
    "    for page in doc: \n",
    "        # page = doc[page_number]\n",
    "        font_config = page.get_fontconfig()\n",
    "        page.insert_font(font_config, \"default\")\n",
    "        print(page._getTexttrace()[0])\n",
    "        text+=page.get_text()\n",
    "        break\n",
    "    print(text) "
   ]
  },
  {
   "cell_type": "code",
   "execution_count": null,
   "metadata": {},
   "outputs": [],
   "source": [
    "def text_extraction(element):\n",
    "    # Extracting the text from the in-line text element\n",
    "    line_text = element.get_text()\n",
    "    \n",
    "    # Find the formats of the text\n",
    "    # Initialize the list with all the formats that appeared in the line of text\n",
    "    line_formats = []\n",
    "    for text_line in element:\n",
    "        if isinstance(text_line, LTTextContainer):\n",
    "            # Iterating through each character in the line of text\n",
    "            for character in text_line:\n",
    "                if isinstance(character, LTChar):\n",
    "                    # Append the font name of the character\n",
    "                    line_formats.append(character.fontname) \n",
    "                    # Append the font size of the character\n",
    "                    line_formats.append(character.size)\n",
    "    # Find the unique font sizes and names in the line\n",
    "    format_per_line = list(set(line_formats))\n",
    "    \n",
    "    # Return a tuple with the text in each line along with its format\n",
    "    return (line_text, format_per_line)"
   ]
  },
  {
   "cell_type": "code",
   "execution_count": null,
   "metadata": {},
   "outputs": [],
   "source": [
    "def printTheShit(file_path):\n",
    "    for page in extract_pages(file_path):\n",
    "        # Iterate the elements that composed a page\n",
    "        for element in page:\n",
    "\n",
    "            # Check if the element is a text element\n",
    "            if isinstance(element, LTTextContainer):\n",
    "                (line_text, format_per_line) = text_extraction(element)\n",
    "                print(line_text) \n",
    "                "
   ]
  },
  {
   "cell_type": "code",
   "execution_count": null,
   "metadata": {},
   "outputs": [],
   "source": []
  },
  {
   "cell_type": "code",
   "execution_count": null,
   "metadata": {},
   "outputs": [
    {
     "name": "stdout",
     "output_type": "stream",
     "text": [
      "Selected PDF File: C:/Users/maquiona/Desktop/Faculdade/finalmente formar/ENADE-COMPUTACAO-2017.pdf\n"
     ]
    },
    {
     "name": "stderr",
     "output_type": "stream",
     "text": [
      "Exception in Tkinter callback\n",
      "Traceback (most recent call last):\n",
      "  File \"c:\\Users\\maquiona\\AppData\\Local\\Programs\\Python\\Python39\\lib\\tkinter\\__init__.py\", line 1885, in __call__\n",
      "    return self.func(*args)\n",
      "  File \"C:\\Users\\maquiona\\AppData\\Local\\Temp\\ipykernel_8668\\262504433.py\", line 10, in select_pdf_file\n",
      "    process_pdf_file(file_path)\n",
      "  File \"C:\\Users\\maquiona\\AppData\\Local\\Temp\\ipykernel_8668\\262504433.py\", line 20, in process_pdf_file\n",
      "    doTheOtherThing(file_path)\n",
      "  File \"C:\\Users\\maquiona\\AppData\\Local\\Temp\\ipykernel_8668\\474728078.py\", line 6, in doTheOtherThing\n",
      "    font_config = page.get_fontconfig()\n",
      "AttributeError: 'Page' object has no attribute 'get_fontconfig'\n"
     ]
    }
   ],
   "source": [
    "import os\n",
    "import PyPDF2\n",
    "import tkinter as tk\n",
    "from tkinter import filedialog\n",
    "\n",
    "def select_pdf_file():\n",
    "    file_path = filedialog.askopenfilename(filetypes=[(\"PDF files\", \"*.pdf\")])\n",
    "    \n",
    "    if file_path:\n",
    "        process_pdf_file(file_path)\n",
    "\n",
    "def select_pdf_folder():\n",
    "    folder_path = filedialog.askdirectory()\n",
    "    if folder_path:\n",
    "        process_pdf_folder(folder_path)\n",
    "\n",
    "def process_pdf_file(file_path):\n",
    "    # Add your code to process the selected PDF file here\n",
    "    print(f\"Selected PDF File: {file_path}\")\n",
    "    doTheOtherThing(file_path)\n",
    "\n",
    "def process_pdf_folder(folder_path):\n",
    "    # Add your code to process all PDF files in the selected folder here\n",
    "    pdf_files = [f for f in os.listdir(folder_path) if f.endswith(\".pdf\")]\n",
    "    print(f\"Selected PDF Folder: {folder_path}\")\n",
    "    print(\"PDF Files in the Folder:\")\n",
    "    for pdf_file in pdf_files:\n",
    "        print(os.path.join(folder_path, pdf_file))\n",
    "\n",
    "# Create the main window\n",
    "root = tk.Tk()\n",
    "root.title(\"PDF File/Folder Selector\")\n",
    "\n",
    "# Create buttons for file and folder selection\n",
    "file_button = tk.Button(root, text=\"Select PDF File\", command=select_pdf_file)\n",
    "file_button.pack(pady=10)\n",
    "\n",
    "folder_button = tk.Button(root, text=\"Select PDF Folder\", command=select_pdf_folder)\n",
    "folder_button.pack(pady=10)\n",
    "\n",
    "# Start the GUI main loop\n",
    "root.mainloop()\n"
   ]
  }
 ],
 "metadata": {
  "kernelspec": {
   "display_name": "Python 3",
   "language": "python",
   "name": "python3"
  },
  "language_info": {
   "codemirror_mode": {
    "name": "ipython",
    "version": 3
   },
   "file_extension": ".py",
   "mimetype": "text/x-python",
   "name": "python",
   "nbconvert_exporter": "python",
   "pygments_lexer": "ipython3",
   "version": "3.9.0"
  }
 },
 "nbformat": 4,
 "nbformat_minor": 2
}
